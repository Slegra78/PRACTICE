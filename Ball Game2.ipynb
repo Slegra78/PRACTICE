{
 "cells": [
  {
   "cell_type": "code",
   "execution_count": null,
   "metadata": {},
   "outputs": [],
   "source": [
    "#Stephanie Le Grange Homework 6B \n",
    "\n",
    "from pygame import *\n",
    "import random\n",
    "\n",
    "ballpic = image.load('Fish.png')\n",
    "ballpic.set_colorkey((0,0,0))\n",
    "\n",
    "numballs = 15\n",
    "delay = 2\n",
    "\n",
    "done = False\n",
    "\n",
    "balls = []\n",
    "\n",
    "for count in range(numballs):\n",
    "    balls.append(dict)\n",
    "    balls[count] = {'x': 0, 'y': 0, 'xmove': random.randint(5, 9), 'ymove': random.randint(4, 9)}\n",
    "\n",
    "init()\n",
    "screen = display.set_mode((640, 480))\n",
    "display.set_caption('Avoid the Fish')\n",
    "event.set_grab(1)\n",
    "\n",
    "while done == False:\n",
    "    screen.fill(0)\n",
    "\n",
    "    for count in range(numballs):\n",
    "        screen.blit(ballpic, (balls[count]['x'], balls[count]['y']))\n",
    "\n",
    "    display.update()\n",
    "\n",
    "    time.delay(delay)\n",
    "\n",
    "    for count in range(numballs):\n",
    "        balls[count]['x'] = balls[count]['x'] + balls[count]['xmove']\n",
    "        balls[count]['y'] = balls[count]['y'] + balls[count]['ymove']\n",
    "\n",
    "    for count in range(numballs):\n",
    "        if balls[count]['x'] > 620:\n",
    "            balls[count]['xmove'] = random.randint(-2, 0)\n",
    "        if balls[count]['x'] < -10:\n",
    "            balls[count]['xmove'] = random.randint(0, 2)\n",
    "        if balls[count]['y'] > 470:\n",
    "            balls[count]['ymove'] = random.randint(-2, 0)\n",
    "        if balls[count]['y'] < -10:\n",
    "            balls[count]['ymove'] = random.randint(0, 2)\n",
    "\n",
    "    for e in event.get():\n",
    "        if e.type == KEYUP:\n",
    "            if e.key == K_ESCAPE:\n",
    "                done = True\n",
    "\n",
    "    if screen.get_at((mouse.get_pos())) == (255, 255, 255, 255):\n",
    "        done = True\n",
    "\n",
    "print ((\"You lasted for\"), time.get_ticks()/1000, \"seconds!\")"
   ]
  },
  {
   "cell_type": "code",
   "execution_count": null,
   "metadata": {
    "collapsed": true
   },
   "outputs": [],
   "source": []
  }
 ],
 "metadata": {
  "kernelspec": {
   "display_name": "Python 3",
   "language": "python",
   "name": "python3"
  },
  "language_info": {
   "codemirror_mode": {
    "name": "ipython",
    "version": 3
   },
   "file_extension": ".py",
   "mimetype": "text/x-python",
   "name": "python",
   "nbconvert_exporter": "python",
   "pygments_lexer": "ipython3",
   "version": "3.6.1"
  }
 },
 "nbformat": 4,
 "nbformat_minor": 2
}
