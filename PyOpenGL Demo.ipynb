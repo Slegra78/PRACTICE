{
 "cells": [
  {
   "cell_type": "code",
   "execution_count": 1,
   "metadata": {},
   "outputs": [
    {
     "ename": "ModuleNotFoundError",
     "evalue": "No module named 'pygame'",
     "output_type": "error",
     "traceback": [
      "\u001b[1;31m---------------------------------------------------------------------------\u001b[0m",
      "\u001b[1;31mModuleNotFoundError\u001b[0m                       Traceback (most recent call last)",
      "\u001b[1;32m<ipython-input-1-4a415d16fbed>\u001b[0m in \u001b[0;36m<module>\u001b[1;34m()\u001b[0m\n\u001b[1;32m----> 1\u001b[1;33m \u001b[1;32mimport\u001b[0m \u001b[0mpygame\u001b[0m\u001b[1;33m\u001b[0m\u001b[0m\n\u001b[0m",
      "\u001b[1;31mModuleNotFoundError\u001b[0m: No module named 'pygame'"
     ]
    }
   ],
   "source": [
    "import pygame"
   ]
  },
  {
   "cell_type": "code",
   "execution_count": null,
   "metadata": {},
   "outputs": [
    {
     "ename": "GLError",
     "evalue": "GLError(\n\terr = 1282,\n\tdescription = b'invalid operation',\n\tbaseOperation = glRotatef,\n\tcArguments = (9, 3, 10, -3)\n)",
     "output_type": "error",
     "traceback": [
      "\u001b[1;31m---------------------------------------------------------------------------\u001b[0m",
      "\u001b[1;31mGLError\u001b[0m                                   Traceback (most recent call last)",
      "\u001b[1;32m<ipython-input-1-294f0fd1ca26>\u001b[0m in \u001b[0;36m<module>\u001b[1;34m()\u001b[0m\n\u001b[0;32m     62\u001b[0m \u001b[1;33m\u001b[0m\u001b[0m\n\u001b[0;32m     63\u001b[0m \u001b[1;33m\u001b[0m\u001b[0m\n\u001b[1;32m---> 64\u001b[1;33m \u001b[0mmain\u001b[0m\u001b[1;33m(\u001b[0m\u001b[1;33m)\u001b[0m\u001b[1;33m\u001b[0m\u001b[0m\n\u001b[0m",
      "\u001b[1;32m<ipython-input-1-294f0fd1ca26>\u001b[0m in \u001b[0;36mmain\u001b[1;34m()\u001b[0m\n\u001b[0;32m     55\u001b[0m                 \u001b[0mquit\u001b[0m\u001b[1;33m(\u001b[0m\u001b[1;33m)\u001b[0m\u001b[1;33m\u001b[0m\u001b[0m\n\u001b[0;32m     56\u001b[0m \u001b[1;33m\u001b[0m\u001b[0m\n\u001b[1;32m---> 57\u001b[1;33m         \u001b[0mglRotatef\u001b[0m\u001b[1;33m(\u001b[0m\u001b[1;36m9\u001b[0m\u001b[1;33m,\u001b[0m \u001b[1;36m3\u001b[0m\u001b[1;33m,\u001b[0m \u001b[1;36m10\u001b[0m\u001b[1;33m,\u001b[0m \u001b[1;33m-\u001b[0m\u001b[1;36m3\u001b[0m\u001b[1;33m)\u001b[0m\u001b[1;33m\u001b[0m\u001b[0m\n\u001b[0m\u001b[0;32m     58\u001b[0m         \u001b[0mglClear\u001b[0m\u001b[1;33m(\u001b[0m\u001b[0mGL_COLOR_BUFFER_BIT\u001b[0m\u001b[1;33m|\u001b[0m\u001b[0mGL_DEPTH_BUFFER_BIT\u001b[0m\u001b[1;33m)\u001b[0m\u001b[1;33m\u001b[0m\u001b[0m\n\u001b[0;32m     59\u001b[0m         \u001b[0mCube\u001b[0m\u001b[1;33m(\u001b[0m\u001b[1;33m)\u001b[0m\u001b[1;33m\u001b[0m\u001b[0m\n",
      "\u001b[1;32mC:\\Users\\stephanie\\Anaconda\\lib\\site-packages\\OpenGL\\error.py\u001b[0m in \u001b[0;36mglCheckError\u001b[1;34m(self, result, baseOperation, cArguments, *args)\u001b[0m\n\u001b[0;32m    230\u001b[0m                         \u001b[0mresult\u001b[0m\u001b[1;33m,\u001b[0m\u001b[1;33m\u001b[0m\u001b[0m\n\u001b[0;32m    231\u001b[0m                         \u001b[0mcArguments\u001b[0m \u001b[1;33m=\u001b[0m \u001b[0mcArguments\u001b[0m\u001b[1;33m,\u001b[0m\u001b[1;33m\u001b[0m\u001b[0m\n\u001b[1;32m--> 232\u001b[1;33m                         \u001b[0mbaseOperation\u001b[0m \u001b[1;33m=\u001b[0m \u001b[0mbaseOperation\u001b[0m\u001b[1;33m,\u001b[0m\u001b[1;33m\u001b[0m\u001b[0m\n\u001b[0m\u001b[0;32m    233\u001b[0m                     )\n\u001b[0;32m    234\u001b[0m                 \u001b[1;32mreturn\u001b[0m \u001b[0mresult\u001b[0m\u001b[1;33m\u001b[0m\u001b[0m\n",
      "\u001b[1;31mGLError\u001b[0m: GLError(\n\terr = 1282,\n\tdescription = b'invalid operation',\n\tbaseOperation = glRotatef,\n\tcArguments = (9, 3, 10, -3)\n)"
     ]
    }
   ],
   "source": [
    "import pygame\n",
    "from pygame.locals import *\n",
    "\n",
    "from OpenGL.GL import *\n",
    "from OpenGL.GLU import *\n",
    "\n",
    "verticies = (\n",
    "    (1, -1, -1),\n",
    "    (1, -1, -1),\n",
    "    (-1, 1, -1),\n",
    "    (-1, -1, -4),\n",
    "    (1, -1, 1),\n",
    "    (1, 1, 1),\n",
    "    (-2, -1, 1),\n",
    "    (-1, 1, 0)\n",
    "    )\n",
    "\n",
    "edges = (\n",
    "    (0,1),\n",
    "    (0,3),\n",
    "    (0,4),\n",
    "    (2,1),\n",
    "    (2,3),\n",
    "    (2,7),\n",
    "    (6,3),\n",
    "    (6,4),\n",
    "    (6,7),\n",
    "    (5,1),\n",
    "    (5,4),\n",
    "    (5,7)\n",
    "    )\n",
    "\n",
    "\n",
    "def Cube():\n",
    "    glBegin(GL_LINES)\n",
    "    for edge in edges:\n",
    "        for vertex in edge:\n",
    "            glVertex3fv(verticies[vertex])\n",
    "    glEnd()\n",
    "\n",
    "\n",
    "def main():\n",
    "    pygame.init()\n",
    "    display = (800,800)\n",
    "    pygame.display.set_mode(display, DOUBLEBUF|OPENGL)\n",
    "\n",
    "    gluPerspective(80, (display[0]/display[1]), 0.1, 50.0)\n",
    "\n",
    "    glTranslatef(0.0,0.0, -5)\n",
    "\n",
    "    while True:\n",
    "        for event in pygame.event.get():\n",
    "            if event.type == pygame.QUIT:\n",
    "                pygame.quit()\n",
    "                quit()\n",
    "\n",
    "        glRotatef(1, 3, 1, 1)\n",
    "        glClear(GL_COLOR_BUFFER_BIT|GL_DEPTH_BUFFER_BIT)\n",
    "        Cube()\n",
    "        pygame.display.flip()\n",
    "        pygame.time.wait(60)\n",
    "\n",
    "\n",
    "main()"
   ]
  },
  {
   "cell_type": "code",
   "execution_count": null,
   "metadata": {
    "collapsed": true
   },
   "outputs": [],
   "source": []
  }
 ],
 "metadata": {
  "kernelspec": {
   "display_name": "Python 3",
   "language": "python",
   "name": "python3"
  },
  "language_info": {
   "codemirror_mode": {
    "name": "ipython",
    "version": 3
   },
   "file_extension": ".py",
   "mimetype": "text/x-python",
   "name": "python",
   "nbconvert_exporter": "python",
   "pygments_lexer": "ipython3",
   "version": "3.6.1"
  }
 },
 "nbformat": 4,
 "nbformat_minor": 2
}
